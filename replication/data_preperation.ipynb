{
 "cells": [
  {
   "cell_type": "code",
   "execution_count": 6,
   "id": "bf92f0e6",
   "metadata": {},
   "outputs": [],
   "source": [
    "import pandas as pd\n",
    "import numpy as np\n",
    "from datetime import datetime as dt"
   ]
  },
  {
   "cell_type": "code",
   "execution_count": 7,
   "id": "1b4cbb4a",
   "metadata": {},
   "outputs": [],
   "source": [
    "# create a map of mission date and mission number\n",
    "date_mission_df = pd.read_csv('hera_ind_perf.csv').loc[:, ['mission', 'date']].drop_duplicates()\n",
    "date_mission_dict = dict(date_mission_df.values)\n",
    "\n",
    "# merge date to hera normalized individual performance, IoI, ToI, and MoI\n",
    "hera_perf = pd.read_csv('Individual Performance All.csv').iloc[:, 1:]\n",
    "hera_perf['date'] = hera_perf['Mission'].map(date_mission_dict)\n",
    "\n",
    "# only use hera performance for this study\n",
    "hera_perf = hera_perf.loc[-hera_perf['date'].isna()].rename(\n",
    "columns = {'role_id':'role', 'Mission':'mission', 'RED_Role':'red_role', 'Team':'team'}).loc[\n",
    "    :, ['date', 'mission', 'role', 'red_role', 'team', 'normalized_perf', 'IoI', 'ToI', 'MoI']\n",
    "]"
   ]
  },
  {
   "cell_type": "code",
   "execution_count": 8,
   "id": "412d5180",
   "metadata": {},
   "outputs": [],
   "source": [
    "hera_perf_date = list(hera_perf.date.unique())\n",
    "\n",
    "hera_smm1 = pd.read_csv('hera_smm1_survey.csv').drop(columns = ['Campaign', 'Mission', 'Session']).rename(\n",
    "columns = {'StartDate':'date', 'Q2.1':'role'})\n",
    "hera_smm1_date = list(hera_smm1.date.unique())\n",
    "\n",
    "hera_smm2 = pd.read_csv('hera_smm2_survey.csv').drop(columns = ['Campaign', 'Mission', 'Session']).rename(\n",
    "columns = {'StartDate':'date', 'Q2.1':'role'})\n",
    "hera_smm2_date = list(hera_smm2.date.unique())\n",
    "\n",
    "# exclude dates where either performance or SMM surveys is missing\n",
    "mutual_date = list(set(hera_perf_date).intersection(set(hera_smm1_date)).intersection(set(hera_smm2_date)))\n",
    "\n",
    "hera_perf = hera_perf.loc[hera_perf.date.isin(mutual_date), :]\n",
    "\n",
    "# performance data\n",
    "hera_norm_perf = hera_perf.loc[:, ['date', 'role', 'normalized_perf']].dropna()\n",
    "hera_IoI_perf = hera_perf.loc[:, ['date', 'role', 'IoI']].dropna()\n",
    "hera_ToI_perf = hera_perf.loc[:, ['date', 'role', 'ToI']].dropna()\n",
    "hera_MoI_perf = hera_perf.loc[:, ['date', 'role', 'MoI']].dropna()"
   ]
  },
  {
   "cell_type": "code",
   "execution_count": 9,
   "id": "2a911a4b",
   "metadata": {},
   "outputs": [],
   "source": [
    "# data on individual relation to team\n",
    "relation = pd.read_csv('hera_relation.csv').dropna()\n",
    "relation['relation'] = relation['relation'].astype('int')\n",
    "relation['role'] = relation['role'].astype('int')"
   ]
  },
  {
   "cell_type": "markdown",
   "id": "c6fa7df0",
   "metadata": {},
   "source": [
    "### Performance CSV"
   ]
  },
  {
   "cell_type": "code",
   "execution_count": 20,
   "id": "c8e7c281",
   "metadata": {},
   "outputs": [],
   "source": [
    "# compute performance csv for ALAAM\n",
    "    # since the response variable in ALAAM is binary, I define high performer (1) and low performer (0)\n",
    "    # based on the average normalized scores of the multi-team systems\n",
    "    \n",
    "def perf_csv(smm_df, perf_df, smm_name, perf_name):\n",
    "    try:\n",
    "        smm = smm_df.loc[smm_df['date'].isin(mutual_date), :]\n",
    "        \n",
    "        smm_perf = smm.loc[:, ['date', 'role']].merge(perf_df, on = ['date', 'role'])\n",
    "        \n",
    "        smm_perf = smm_perf.groupby('date').mean().reset_index().loc[:, ['date', perf_name]].rename(\n",
    "            columns = {perf_name: 'avg_perf'}).merge(smm_perf, on = 'date')\n",
    "        \n",
    "        smm_perf['binary'] = 1\n",
    "        smm_perf.loc[smm_perf[perf_name] < smm_perf['avg_perf'], 'binary'] = 0\n",
    "        smm_perf = smm_perf.loc[:, ['binary']].rename(columns = {'binary': perf_name})\n",
    "        \n",
    "        smm_perf.loc[:, [f'{perf_name}']].to_csv(f'{smm_name}_{perf_name}.csv')\n",
    "    except Exception as e:\n",
    "        print(e)"
   ]
  },
  {
   "cell_type": "code",
   "execution_count": 21,
   "id": "6fdec671",
   "metadata": {},
   "outputs": [],
   "source": [
    "perf_list = [[hera_norm_perf, 'normalized_perf'], [hera_IoI_perf, 'IoI'],\n",
    "                [hera_ToI_perf, 'ToI'], [hera_MoI_perf, 'MoI']]\n",
    "smm_list = [[hera_smm1, 'smm1']]\n",
    "\n",
    "for i in perf_list:\n",
    "    for j in smm_list:\n",
    "        perf_csv(smm_df = j[0], perf_df = i[0], smm_name = j[1], perf_name = i[1])"
   ]
  },
  {
   "cell_type": "markdown",
   "id": "066e13e7",
   "metadata": {},
   "source": [
    "### Covariates CSV"
   ]
  },
  {
   "cell_type": "code",
   "execution_count": 22,
   "id": "f4890b61",
   "metadata": {},
   "outputs": [],
   "source": [
    "# compute team csv for ALAAM\n",
    "    # since the response variable in ALAAM is binary, I define high performer (1) and low performer (0)\n",
    "    # based on the average normalized scores of the multi-team systems\n",
    "    \n",
    "def cov_csv(smm_df, perf_df, smm_name, perf_name, cov_name):\n",
    "    try:\n",
    "        smm = smm_df.loc[smm_df['date'].isin(mutual_date), :]\n",
    "        \n",
    "        smm_perf = smm.loc[:, ['date', 'role']].merge(perf_df, on = ['date', 'role'])\n",
    "        \n",
    "        if cov_name == 'team':\n",
    "            smm_perf['team'] = smm_perf['role'].map({1:'Rob', 2:'Rob', 3:'Rob', 4:'Eng', 5:'Eng', 6:'Eng',\n",
    "                                        7:'Geo', 8:'Geo', 9:'Geo', 10:'HF', 11:'HF', 12:'HF'})\n",
    "            smm_perf.loc[:, ['team']].to_csv(f'{smm_name}_{perf_name}_teamcov.csv')\n",
    "        elif cov_name == 'mcontrol':\n",
    "            smm_perf['mcontrol'] = smm_perf['role'].map({1:0, 2:1, 3:1, 4:0, 5:1, 6:1,\n",
    "                                        7:1, 8:0, 9:1, 10:1, 11:1, 12:0})\n",
    "            smm_perf.loc[:, ['mcontrol']].to_csv(f'{smm_name}_{perf_name}_mcontrol.csv')\n",
    "        elif cov_name == 'goal':\n",
    "            smm_perf['goal'] = smm_perf['role'].map({1:0, 2:0, 3:0, 4:1, 5:1, 6:1,\n",
    "                                        7:1, 8:1, 9:1, 10:0, 11:0, 12:0})\n",
    "            smm_perf.loc[:, ['goal']].to_csv(f'{smm_name}_{perf_name}_goalcov.csv')\n",
    "        elif cov_name == 'relation':\n",
    "            smm_perf = smm_perf.drop_duplicates().merge(relation.drop_duplicates(), on = ['date', 'role'])\n",
    "            smm_perf.loc[:, ['relation']].to_csv(f'{smm_name}_{perf_name}_relation.csv')\n",
    "        \n",
    "    except Exception as e:\n",
    "        print(e)"
   ]
  },
  {
   "cell_type": "code",
   "execution_count": 25,
   "id": "0c8bf667",
   "metadata": {},
   "outputs": [],
   "source": [
    "cov_list = ['team', 'mcontrol', 'relation', 'goal']\n",
    "\n",
    "for i in perf_list:\n",
    "    for j in smm_list:\n",
    "        for k in cov_list:\n",
    "            cov_csv(smm_df = j[0], perf_df = i[0], smm_name = j[1], perf_name = i[1], cov_name = k)"
   ]
  },
  {
   "cell_type": "markdown",
   "id": "24f5c110",
   "metadata": {},
   "source": [
    "### Block Diagonal Matrix CSV"
   ]
  },
  {
   "cell_type": "code",
   "execution_count": 12,
   "id": "e90809f5",
   "metadata": {},
   "outputs": [],
   "source": [
    "# compute SMM block diagonal matrix csv for ALAAM\n",
    "\n",
    "def bd_matrix(smm_df, perf_df, perf_name, smm_name):\n",
    "    try:\n",
    "        hera = smm_df.loc[smm_df['date'].isin(mutual_date), :].merge(\n",
    "            perf_df, on = ['date', 'role']).drop(columns = perf_name)\n",
    "        mission = hera.date.unique()\n",
    "        \n",
    "        hera_smm = []\n",
    "        for i in mission:\n",
    "            m = hera[hera['date'] == i].iloc[:, 2:].to_numpy()\n",
    "            row, col = m.shape\n",
    "            smm = []\n",
    "            for j in range(row - 1):\n",
    "                for k in list(range(j + 1, row)):\n",
    "                    temp = m[j] - m[k]\n",
    "                    smm.append([j + 1, k + 1, np.sqrt(np.dot(temp.T, temp)) / 10 * np.sqrt(10)])\n",
    "            hera_smm.append((i, smm))\n",
    "        \n",
    "        hera_link = {}\n",
    "        for i in range(len(hera_smm)):\n",
    "            m = hera_smm[i][1]\n",
    "            smm = [x[2] for x in m]\n",
    "            avg_smm = sum(smm) / len(smm)\n",
    "            link = [x[:2] for x in m if x[2] < avg_smm]\n",
    "            hera_link[[x[0] for x in hera_smm][i]] = link \n",
    "            \n",
    "        adjacency_list = []\n",
    "        for i in mission:\n",
    "            edge_list = hera_link[i]\n",
    "            size = hera[hera['date'] == i].shape[0]\n",
    "            adjacency = [[0]*size for _ in range(size)]\n",
    "            for sink, source in edge_list:\n",
    "                adjacency[sink - 1][source - 1] = 1\n",
    "            for i in range(size):\n",
    "                for j in range(size):\n",
    "                    t = adjacency[i][j]\n",
    "                    adjacency[j][i] = t\n",
    "            adjacency_list.append(adjacency)\n",
    "            \n",
    "        mat_list = []\n",
    "        for i in range(len(adjacency_list)):\n",
    "            mat = adjacency_list[i]\n",
    "            front_sum = 0\n",
    "            back_sum = 0\n",
    "            for j in range(i):\n",
    "                prev_mat = adjacency_list[j]\n",
    "                front_sum = front_sum + np.array(prev_mat).shape[0]\n",
    "            for k in range(i + 1, len(adjacency_list)):\n",
    "                post_mat = adjacency_list[k]\n",
    "                back_sum = back_sum + np.array(post_mat).shape[0]\n",
    "            mat_list.append(np.block([np.zeros((np.array(mat).shape[0], front_sum)), \n",
    "                              np.array(mat), np.zeros((np.array(mat).shape[0], back_sum))]))\n",
    "            \n",
    "        concat_mat = mat_list[0]\n",
    "        for i in list(range(1, len(mission))):\n",
    "            concat_mat = np.concatenate([concat_mat, mat_list[i]])\n",
    "        \n",
    "        pd.DataFrame(concat_mat).astype('int').to_csv(f'{smm_name}_{perf_name}_bd_matrix.csv')\n",
    "        \n",
    "    except Exception as e:\n",
    "        print(e)"
   ]
  },
  {
   "cell_type": "code",
   "execution_count": 28,
   "id": "98cbd727",
   "metadata": {},
   "outputs": [],
   "source": [
    "for i in perf_list:\n",
    "    for j in smm_list:\n",
    "        bd_matrix(smm_df = j[0], perf_df = i[0], smm_name = j[1], perf_name = i[1])"
   ]
  },
  {
   "cell_type": "code",
   "execution_count": null,
   "id": "fc6ba019",
   "metadata": {},
   "outputs": [],
   "source": []
  }
 ],
 "metadata": {
  "kernelspec": {
   "display_name": "Python 3 (ipykernel)",
   "language": "python",
   "name": "python3"
  },
  "language_info": {
   "codemirror_mode": {
    "name": "ipython",
    "version": 3
   },
   "file_extension": ".py",
   "mimetype": "text/x-python",
   "name": "python",
   "nbconvert_exporter": "python",
   "pygments_lexer": "ipython3",
   "version": "3.9.7"
  }
 },
 "nbformat": 4,
 "nbformat_minor": 5
}
